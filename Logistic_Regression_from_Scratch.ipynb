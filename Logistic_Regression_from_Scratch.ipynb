{
  "nbformat": 4,
  "nbformat_minor": 0,
  "metadata": {
    "colab": {
      "name": "Logistic Regression from Scratch.ipynb",
      "provenance": [],
      "authorship_tag": "ABX9TyPUjUN+m7QbtHrzkUQHBRmD",
      "include_colab_link": true
    },
    "kernelspec": {
      "name": "python3",
      "display_name": "Python 3"
    },
    "accelerator": "GPU"
  },
  "cells": [
    {
      "cell_type": "markdown",
      "metadata": {
        "id": "view-in-github",
        "colab_type": "text"
      },
      "source": [
        "<a href=\"https://colab.research.google.com/github/azfar154/LogisticRegressionfromScratch/blob/master/Logistic_Regression_from_Scratch.ipynb\" target=\"_parent\"><img src=\"https://colab.research.google.com/assets/colab-badge.svg\" alt=\"Open In Colab\"/></a>"
      ]
    },
    {
      "cell_type": "code",
      "metadata": {
        "id": "_w7qk35tBjLy",
        "colab_type": "code",
        "colab": {}
      },
      "source": [
        "import numpy as np\n",
        "import matplotlib.pyplot as plt\n",
        "from sklearn.datasets import load_iris\n",
        "from sklearn.metrics import confusion_matrix,accuracy_score\n",
        "import seaborn as sns\n",
        "from sklearn.metrics import plot_confusion_matrix,classification_report\n",
        "from sklearn.linear_model import LogisticRegression"
      ],
      "execution_count": 0,
      "outputs": []
    },
    {
      "cell_type": "markdown",
      "metadata": {
        "id": "GLeem2K8g50Y",
        "colab_type": "text"
      },
      "source": [
        "Load Data"
      ]
    },
    {
      "cell_type": "code",
      "metadata": {
        "id": "x0IwCS2hDp1T",
        "colab_type": "code",
        "colab": {}
      },
      "source": [
        "iris = load_iris()"
      ],
      "execution_count": 0,
      "outputs": []
    },
    {
      "cell_type": "code",
      "metadata": {
        "id": "Ow8cJX6eGw9h",
        "colab_type": "code",
        "colab": {}
      },
      "source": [
        "a = 0.01\n",
        "num_epochs = range(50000)"
      ],
      "execution_count": 0,
      "outputs": []
    },
    {
      "cell_type": "code",
      "metadata": {
        "id": "qAGw6XPpDwIr",
        "colab_type": "code",
        "colab": {}
      },
      "source": [
        "X = iris.data[:, :2]\n",
        "y = (iris.target != 0) * 1"
      ],
      "execution_count": 0,
      "outputs": []
    },
    {
      "cell_type": "code",
      "metadata": {
        "id": "LyAZpDVBBdcZ",
        "colab_type": "code",
        "colab": {}
      },
      "source": [
        "def calc_loss(actual,pred):\n",
        "  \"\"\"\n",
        "  Calculate Logistic Regression Loss\n",
        "  :param actual: Actual Value\n",
        "  :param pred: Predicted Value\n",
        "  :return: Loss \n",
        "  when actual= 0 \n",
        "  -log(1-pred)\n",
        "  when actual = 1\n",
        "  -log(pred)\n",
        "  >> calc_loss(1,0.3)\n",
        "  1.2039728043259361\n",
        "  \"\"\"\n",
        "  #  when actual == 0 the first part of the equation will equate to 0\n",
        "  #  when actual == 1 the second part of the equation will equate to 0\n",
        "  return -(actual*np.log(pred)+(1-actual)*np.log(1-pred)).mean()\n",
        "def sigmoid(value):\n",
        "  \"\"\"\n",
        "  Calculate Sigmoid\n",
        "  :param value: X to get the sigmoid \n",
        "  :return: sigmoid of a value\n",
        "  \"\"\"\n",
        "  return 1/(1+np.exp(-value))\n",
        "def predict(theta,x):\n",
        "  \"\"\"\n",
        "  \n",
        "  :param theta: Theta to multiply x with\n",
        "  :param x: X to multiply theta with\n",
        "  :return: theta^T\n",
        "  \"\"\"\n",
        "  return sigmoid(np.matmul(x,(theta.T)))\n",
        "def add_bias(X):\n",
        "  bias = np.ones((X.shape[0],1))\n",
        "  return np.append(bias,X,axis=1)"
      ],
      "execution_count": 0,
      "outputs": []
    },
    {
      "cell_type": "markdown",
      "metadata": {
        "id": "DmnCVV8wesFa",
        "colab_type": "text"
      },
      "source": [
        "When actual == 1"
      ]
    },
    {
      "cell_type": "code",
      "metadata": {
        "id": "7UNZaD8EB8BW",
        "colab_type": "code",
        "colab": {}
      },
      "source": [
        "#  make possible percentages\n",
        "pred = np.arange(0.1,1,0.01)\n",
        "#. make all the actuals 0\n",
        "actual  = np.ones((90,))"
      ],
      "execution_count": 0,
      "outputs": []
    },
    {
      "cell_type": "code",
      "metadata": {
        "id": "tNtf_iJmdX4t",
        "colab_type": "code",
        "colab": {}
      },
      "source": [
        "cost = []\n",
        "losses = []\n",
        "for c,d in zip(pred,actual):\n",
        "    losses.append(calc_loss(d,c))"
      ],
      "execution_count": 0,
      "outputs": []
    },
    {
      "cell_type": "code",
      "metadata": {
        "id": "CcR1WnpKd0P1",
        "colab_type": "code",
        "outputId": "2de90158-2e1e-4d52-8c68-52aed6d8fab5",
        "colab": {
          "base_uri": "https://localhost:8080/",
          "height": 282
        }
      },
      "source": [
        "plt.plot(pred,losses)"
      ],
      "execution_count": 0,
      "outputs": [
        {
          "output_type": "execute_result",
          "data": {
            "text/plain": [
              "[<matplotlib.lines.Line2D at 0x7fa530b00cc0>]"
            ]
          },
          "metadata": {
            "tags": []
          },
          "execution_count": 8
        },
        {
          "output_type": "display_data",
          "data": {
            "image/png": "[encoded data removed]",
            "text/plain": [
              "<Figure size 432x288 with 1 Axes>"
            ]
          },
          "metadata": {
            "tags": []
          }
        }
      ]
    },
    {
      "cell_type": "code",
      "metadata": {
        "id": "lsNiEIUnDGQt",
        "colab_type": "code",
        "colab": {}
      },
      "source": [
        "sigmoid_values = np.arange(-9,9,0.1)"
      ],
      "execution_count": 0,
      "outputs": []
    },
    {
      "cell_type": "markdown",
      "metadata": {
        "id": "bZvHQmZRevMU",
        "colab_type": "text"
      },
      "source": [
        "When actual == 0\n"
      ]
    },
    {
      "cell_type": "code",
      "metadata": {
        "id": "E6eUJZGVejRk",
        "colab_type": "code",
        "colab": {}
      },
      "source": [
        "actual  = np.zeros((90,))"
      ],
      "execution_count": 0,
      "outputs": []
    },
    {
      "cell_type": "code",
      "metadata": {
        "id": "5SBhTW04em_s",
        "colab_type": "code",
        "colab": {}
      },
      "source": [
        "cost = []\n",
        "losses = []\n",
        "for b,c in zip(pred,actual):\n",
        "    losses.append(calc_loss(c,b))"
      ],
      "execution_count": 0,
      "outputs": []
    },
    {
      "cell_type": "code",
      "metadata": {
        "id": "gSWKxDs5eoZG",
        "colab_type": "code",
        "outputId": "03cd9948-4b31-485d-c04f-7f800354a140",
        "colab": {
          "base_uri": "https://localhost:8080/",
          "height": 282
        }
      },
      "source": [
        "plt.plot(pred,losses)"
      ],
      "execution_count": 0,
      "outputs": [
        {
          "output_type": "execute_result",
          "data": {
            "text/plain": [
              "[<matplotlib.lines.Line2D at 0x7fa530646b70>]"
            ]
          },
          "metadata": {
            "tags": []
          },
          "execution_count": 12
        },
        {
          "output_type": "display_data",
          "data": {
            "image/png": "[encoded data removed]",
            "text/plain": [
              "<Figure size 432x288 with 1 Axes>"
            ]
          },
          "metadata": {
            "tags": []
          }
        }
      ]
    },
    {
      "cell_type": "markdown",
      "metadata": {
        "id": "Rq3a0SOaEGGZ",
        "colab_type": "text"
      },
      "source": [
        "when X =0 Y = 0.5\n",
        "\n"
      ]
    },
    {
      "cell_type": "code",
      "metadata": {
        "id": "BGwepCULC320",
        "colab_type": "code",
        "outputId": "a352da71-c57f-4ad9-d752-bfb9d6007544",
        "colab": {
          "base_uri": "https://localhost:8080/",
          "height": 282
        }
      },
      "source": [
        "plt.figure()\n",
        "plt.plot(sigmoid_values,sigmoid(sigmoid_values))\n",
        "plt.scatter(0,0.5)"
      ],
      "execution_count": 0,
      "outputs": [
        {
          "output_type": "execute_result",
          "data": {
            "text/plain": [
              "<matplotlib.collections.PathCollection at 0x7fa5305a8dd8>"
            ]
          },
          "metadata": {
            "tags": []
          },
          "execution_count": 13
        },
        {
          "output_type": "display_data",
          "data": {
            "image/png": "[encoded data removed]",
            "text/plain": [
              "<Figure size 432x288 with 1 Axes>"
            ]
          },
          "metadata": {
            "tags": []
          }
        }
      ]
    },
    {
      "cell_type": "markdown",
      "metadata": {
        "id": "b70DtDVXfyXB",
        "colab_type": "text"
      },
      "source": [
        "As you can see when x >= 0 then y>=0.5"
      ]
    },
    {
      "cell_type": "code",
      "metadata": {
        "id": "cQeTcHrCEMRG",
        "colab_type": "code",
        "colab": {}
      },
      "source": [
        "sigmoid_values = np.arange(-12,9,0.1)"
      ],
      "execution_count": 0,
      "outputs": []
    },
    {
      "cell_type": "code",
      "metadata": {
        "id": "CYBwHc9_C6jm",
        "colab_type": "code",
        "outputId": "c8cd1706-a9cc-44e4-db89-51cb7d1bfa8f",
        "colab": {
          "base_uri": "https://localhost:8080/",
          "height": 282
        }
      },
      "source": [
        "plt.figure()\n",
        "plt.plot(sigmoid_values,sigmoid(sigmoid_values))\n",
        "plt.scatter(0,0.5)"
      ],
      "execution_count": 0,
      "outputs": [
        {
          "output_type": "execute_result",
          "data": {
            "text/plain": [
              "<matplotlib.collections.PathCollection at 0x7fa5305b94e0>"
            ]
          },
          "metadata": {
            "tags": []
          },
          "execution_count": 15
        },
        {
          "output_type": "display_data",
          "data": {
            "image/png": "[encoded data removed]",
            "text/plain": [
              "<Figure size 432x288 with 1 Axes>"
            ]
          },
          "metadata": {
            "tags": []
          }
        }
      ]
    },
    {
      "cell_type": "code",
      "metadata": {
        "id": "0keDJFrNFmoZ",
        "colab_type": "code",
        "colab": {}
      },
      "source": [
        "X = add_bias(X)"
      ],
      "execution_count": 0,
      "outputs": []
    },
    {
      "cell_type": "code",
      "metadata": {
        "id": "jrS0Kl8Df4ax",
        "colab_type": "code",
        "outputId": "98519499-33a9-4025-fb9b-38d45040468d",
        "colab": {
          "base_uri": "https://localhost:8080/",
          "height": 104
        }
      },
      "source": [
        "X[0:5]"
      ],
      "execution_count": 0,
      "outputs": [
        {
          "output_type": "execute_result",
          "data": {
            "text/plain": [
              "array([[1. , 5.1, 3.5],\n",
              "       [1. , 4.9, 3. ],\n",
              "       [1. , 4.7, 3.2],\n",
              "       [1. , 4.6, 3.1],\n",
              "       [1. , 5. , 3.6]])"
            ]
          },
          "metadata": {
            "tags": []
          },
          "execution_count": 17
        }
      ]
    },
    {
      "cell_type": "code",
      "metadata": {
        "id": "j5om1LeRjEYL",
        "colab_type": "code",
        "outputId": "e41fd8d4-bb31-45cc-95d8-14461bef047f",
        "colab": {
          "base_uri": "https://localhost:8080/",
          "height": 104
        }
      },
      "source": [
        "theta = np.zeros((3,))\n",
        "loss = []\n",
        "for x in num_epochs:\n",
        "  h = predict(X,theta)\n",
        "  theta -= a*(np.matmul(X.T,(h-y)))/y.size\n",
        "  loss.append(calc_loss(y,h))\n",
        "  if x % 10000 == 0:\n",
        "    # show loss every 10000 epochs\n",
        "    print(\"Loss \" + str(calc_loss(y,h)))\n",
        "  "
      ],
      "execution_count": 0,
      "outputs": [
        {
          "output_type": "stream",
          "text": [
            "Loss 0.6931471805599454\n",
            "Loss 0.0847993141389288\n",
            "Loss 0.06005505861569996\n",
            "Loss 0.050552362039144656\n",
            "Loss 0.0453598500411216\n"
          ],
          "name": "stdout"
        }
      ]
    },
    {
      "cell_type": "code",
      "metadata": {
        "id": "JDK3upo4OK_6",
        "colab_type": "code",
        "colab": {}
      },
      "source": [
        "epochs = [*num_epochs]"
      ],
      "execution_count": 0,
      "outputs": []
    },
    {
      "cell_type": "code",
      "metadata": {
        "id": "l5bM38IISAd2",
        "colab_type": "code",
        "outputId": "6234614c-ccf4-493e-d7cb-3d7f09c2ed9e",
        "colab": {
          "base_uri": "https://localhost:8080/",
          "height": 35
        }
      },
      "source": [
        "theta"
      ],
      "execution_count": 0,
      "outputs": [
        {
          "output_type": "execute_result",
          "data": {
            "text/plain": [
              "array([-1.94883215,  4.91375181, -7.89018616])"
            ]
          },
          "metadata": {
            "tags": []
          },
          "execution_count": 20
        }
      ]
    },
    {
      "cell_type": "code",
      "metadata": {
        "id": "k7LIL_lfN0oY",
        "colab_type": "code",
        "outputId": "8605b1c1-1a0e-4fbe-a0f2-55495f18d8f9",
        "colab": {
          "base_uri": "https://localhost:8080/",
          "height": 296
        }
      },
      "source": [
        "plt.figure()\n",
        "plt.xlabel(\"Epochs\")\n",
        "plt.ylabel(\"J(theta)\")\n",
        "plt.plot(epochs,loss)"
      ],
      "execution_count": 0,
      "outputs": [
        {
          "output_type": "execute_result",
          "data": {
            "text/plain": [
              "[<matplotlib.lines.Line2D at 0x7fa52da354a8>]"
            ]
          },
          "metadata": {
            "tags": []
          },
          "execution_count": 21
        },
        {
          "output_type": "display_data",
          "data": {
            "image/png": "[encoded data removed]",
            "text/plain": [
              "<Figure size 432x288 with 1 Axes>"
            ]
          },
          "metadata": {
            "tags": []
          }
        }
      ]
    },
    {
      "cell_type": "code",
      "metadata": {
        "id": "CisxyoYhbfZE",
        "colab_type": "code",
        "outputId": "1d6b688f-9514-4042-8267-62f1f71fdabd",
        "colab": {
          "base_uri": "https://localhost:8080/",
          "height": 311
        }
      },
      "source": [
        "# using the sigmoid function\n",
        "(predict(theta,X) >= 0.5)== (np.matmul(theta,X.T) >= 0)\n",
        "#. remember when x >=0 g(x) >= 0.5"
      ],
      "execution_count": 0,
      "outputs": [
        {
          "output_type": "execute_result",
          "data": {
            "text/plain": [
              "array([ True,  True,  True,  True,  True,  True,  True,  True,  True,\n",
              "        True,  True,  True,  True,  True,  True,  True,  True,  True,\n",
              "        True,  True,  True,  True,  True,  True,  True,  True,  True,\n",
              "        True,  True,  True,  True,  True,  True,  True,  True,  True,\n",
              "        True,  True,  True,  True,  True,  True,  True,  True,  True,\n",
              "        True,  True,  True,  True,  True,  True,  True,  True,  True,\n",
              "        True,  True,  True,  True,  True,  True,  True,  True,  True,\n",
              "        True,  True,  True,  True,  True,  True,  True,  True,  True,\n",
              "        True,  True,  True,  True,  True,  True,  True,  True,  True,\n",
              "        True,  True,  True,  True,  True,  True,  True,  True,  True,\n",
              "        True,  True,  True,  True,  True,  True,  True,  True,  True,\n",
              "        True,  True,  True,  True,  True,  True,  True,  True,  True,\n",
              "        True,  True,  True,  True,  True,  True,  True,  True,  True,\n",
              "        True,  True,  True,  True,  True,  True,  True,  True,  True,\n",
              "        True,  True,  True,  True,  True,  True,  True,  True,  True,\n",
              "        True,  True,  True,  True,  True,  True,  True,  True,  True,\n",
              "        True,  True,  True,  True,  True,  True])"
            ]
          },
          "metadata": {
            "tags": []
          },
          "execution_count": 22
        }
      ]
    },
    {
      "cell_type": "code",
      "metadata": {
        "id": "NMhMGMOsR4Xg",
        "colab_type": "code",
        "colab": {}
      },
      "source": [
        "prediction = (predict(theta,X) >= 0.5) * 1"
      ],
      "execution_count": 0,
      "outputs": []
    },
    {
      "cell_type": "code",
      "metadata": {
        "id": "00DRAgJfBiOb",
        "colab_type": "code",
        "outputId": "03b6c5af-0ab2-4a94-8494-bd9185508567",
        "colab": {
          "base_uri": "https://localhost:8080/",
          "height": 138
        }
      },
      "source": [
        "prediction"
      ],
      "execution_count": 0,
      "outputs": [
        {
          "output_type": "execute_result",
          "data": {
            "text/plain": [
              "array([0, 0, 0, 0, 0, 0, 0, 0, 0, 0, 0, 0, 0, 0, 0, 0, 0, 0, 0, 0, 0, 0,\n",
              "       0, 0, 0, 0, 0, 0, 0, 0, 0, 0, 0, 0, 0, 0, 0, 0, 0, 0, 0, 1, 0, 0,\n",
              "       0, 0, 0, 0, 0, 0, 1, 1, 1, 1, 1, 1, 1, 1, 1, 1, 1, 1, 1, 1, 1, 1,\n",
              "       1, 1, 1, 1, 1, 1, 1, 1, 1, 1, 1, 1, 1, 1, 1, 1, 1, 1, 1, 1, 1, 1,\n",
              "       1, 1, 1, 1, 1, 1, 1, 1, 1, 1, 1, 1, 1, 1, 1, 1, 1, 1, 1, 1, 1, 1,\n",
              "       1, 1, 1, 1, 1, 1, 1, 1, 1, 1, 1, 1, 1, 1, 1, 1, 1, 1, 1, 1, 1, 1,\n",
              "       1, 1, 1, 1, 1, 1, 1, 1, 1, 1, 1, 1, 1, 1, 1, 1, 1, 1])"
            ]
          },
          "metadata": {
            "tags": []
          },
          "execution_count": 24
        }
      ]
    },
    {
      "cell_type": "code",
      "metadata": {
        "id": "gq9wA7nPZrrI",
        "colab_type": "code",
        "outputId": "1e9ff478-aa79-41b0-84f0-f44cf941f933",
        "colab": {
          "base_uri": "https://localhost:8080/",
          "height": 35
        }
      },
      "source": [
        "print(\"Accuracy {:.1f}%\".format(float(accuracy_score(y,prediction))*100))"
      ],
      "execution_count": 0,
      "outputs": [
        {
          "output_type": "stream",
          "text": [
            "Accuracy 99.3%\n"
          ],
          "name": "stdout"
        }
      ]
    },
    {
      "cell_type": "code",
      "metadata": {
        "id": "kaVT2qNGckCn",
        "colab_type": "code",
        "outputId": "aea6c152-4845-4ebd-fd64-c55bd6c3062a",
        "colab": {
          "base_uri": "https://localhost:8080/",
          "height": 35
        }
      },
      "source": [
        "model = LogisticRegression().fit(X,y)\n",
        "model.score(X,y)"
      ],
      "execution_count": 0,
      "outputs": [
        {
          "output_type": "execute_result",
          "data": {
            "text/plain": [
              "1.0"
            ]
          },
          "metadata": {
            "tags": []
          },
          "execution_count": 34
        }
      ]
    },
    {
      "cell_type": "code",
      "metadata": {
        "id": "F6kztjJj9mGT",
        "colab_type": "code",
        "colab": {}
      },
      "source": [
        "sci_pred = model.predict(X)\n",
        "scikit_ = confusion_matrix(y,sci_pred)"
      ],
      "execution_count": 0,
      "outputs": []
    },
    {
      "cell_type": "code",
      "metadata": {
        "id": "EiOjTz7CZxtr",
        "colab_type": "code",
        "outputId": "f31d85f6-a403-496b-afce-c9db58c62c2d",
        "colab": {
          "base_uri": "https://localhost:8080/",
          "height": 286
        }
      },
      "source": [
        "matrix = confusion_matrix(y,prediction)\n",
        "sns.heatmap(matrix,annot=True)"
      ],
      "execution_count": 0,
      "outputs": [
        {
          "output_type": "execute_result",
          "data": {
            "text/plain": [
              "<matplotlib.axes._subplots.AxesSubplot at 0x7fa52c62cda0>"
            ]
          },
          "metadata": {
            "tags": []
          },
          "execution_count": 36
        },
        {
          "output_type": "display_data",
          "data": {
            "image/png": "[encoded data removed]",
            "text/plain": [
              "<Figure size 432x288 with 2 Axes>"
            ]
          },
          "metadata": {
            "tags": []
          }
        }
      ]
    },
    {
      "cell_type": "code",
      "metadata": {
        "id": "Xf_oOBRg9rIN",
        "colab_type": "code",
        "outputId": "ecfa209e-9f96-45e7-f65a-56fdb8082418",
        "colab": {
          "base_uri": "https://localhost:8080/",
          "height": 286
        }
      },
      "source": [
        "sns.heatmap(scikit_,annot=True)"
      ],
      "execution_count": 0,
      "outputs": [
        {
          "output_type": "execute_result",
          "data": {
            "text/plain": [
              "<matplotlib.axes._subplots.AxesSubplot at 0x7fa52c5c80b8>"
            ]
          },
          "metadata": {
            "tags": []
          },
          "execution_count": 37
        },
        {
          "output_type": "display_data",
          "data": {
            "image/png": "[encoded data removed]",
            "text/plain": [
              "<Figure size 432x288 with 2 Axes>"
            ]
          },
          "metadata": {
            "tags": []
          }
        }
      ]
    },
    {
      "cell_type": "code",
      "metadata": {
        "id": "6IQWc25g79XA",
        "colab_type": "code",
        "outputId": "0ba943ba-56e7-4d67-ea74-2e77dd448468",
        "colab": {
          "base_uri": "https://localhost:8080/",
          "height": 173
        }
      },
      "source": [
        "print(classification_report(y,prediction))"
      ],
      "execution_count": 0,
      "outputs": [
        {
          "output_type": "stream",
          "text": [
            "              precision    recall  f1-score   support\n",
            "\n",
            "           0       1.00      0.98      0.99        50\n",
            "           1       0.99      1.00      1.00       100\n",
            "\n",
            "    accuracy                           0.99       150\n",
            "   macro avg       1.00      0.99      0.99       150\n",
            "weighted avg       0.99      0.99      0.99       150\n",
            "\n"
          ],
          "name": "stdout"
        }
      ]
    },
    {
      "cell_type": "code",
      "metadata": {
        "id": "ls94crKI9JM_",
        "colab_type": "code",
        "outputId": "ebadd3c0-41b0-4b73-f56a-defb1223982e",
        "colab": {
          "base_uri": "https://localhost:8080/",
          "height": 173
        }
      },
      "source": [
        "print(classification_report(y,sci_pred))"
      ],
      "execution_count": 0,
      "outputs": [
        {
          "output_type": "stream",
          "text": [
            "              precision    recall  f1-score   support\n",
            "\n",
            "           0       1.00      1.00      1.00        50\n",
            "           1       1.00      1.00      1.00       100\n",
            "\n",
            "    accuracy                           1.00       150\n",
            "   macro avg       1.00      1.00      1.00       150\n",
            "weighted avg       1.00      1.00      1.00       150\n",
            "\n"
          ],
          "name": "stdout"
        }
      ]
    },
    {
      "cell_type": "code",
      "metadata": {
        "id": "l-pS1deY9_af",
        "colab_type": "code",
        "colab": {}
      },
      "source": [
        ""
      ],
      "execution_count": 0,
      "outputs": []
    }
  ]
}